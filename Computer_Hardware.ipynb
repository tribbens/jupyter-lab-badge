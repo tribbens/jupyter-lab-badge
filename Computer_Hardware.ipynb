{
 "cells": [
  {
   "cell_type": "code",
   "execution_count": 36,
   "id": "10d50fd3-ccf0-4a3a-800c-faa1e02cc6dc",
   "metadata": {
    "tags": []
   },
   "outputs": [],
   "source": [
    "import pandas as pd\n",
    "import matplotlib.pyplot as plt\n",
    "\n",
    "#reading data from csv files and creating one dataframe\n",
    "df1 = pd.read_csv(\"2021-06-15-survey.csv\")\n",
    "df2 = pd.read_csv(\"2022-06-14-survey.csv\")\n",
    "df3 = pd.read_csv(\"2023-06-13-survey.csv\")\n",
    "df_list = [df1, df2, df3]\n",
    "combined_df = pd.concat(df_list)\n",
    "combined_df.reset_index(drop=True, inplace=True)\n",
    "\n",
    "#set count to 1 for each row so they can be summed\n",
    "combined_df[\"Count\"] = 1\n",
    "\n",
    "#create dataframes that group by each quantitative characteristic\n",
    "opsys_df = combined_df.groupby([\"Operating System\"])[\"Count\"].sum()\n",
    "hd_df = combined_df.groupby([\"Hard Drive Size (in GB)\"])[\"Count\"].sum()\n",
    "cpu_cores_df = combined_df.groupby([\"CPU Number of Cores\"])[\"Count\"].sum()\n",
    "ram_df = combined_df.groupby([\"RAM (in GB)\"])[\"Count\"].sum()\n",
    "cpu_df = combined_df.groupby([\"CPU Cycle Rate (in GHz)\"])[\"Count\"].sum()\n",
    "gpu_cores_df = combined_df.groupby([\"GPU CUDA Number of Cores (int)\"])[\"Count\"].sum()\n"
   ]
  },
  {
   "cell_type": "code",
   "execution_count": 49,
   "id": "8e5df572-355d-45ab-a192-3e28ca4b0521",
   "metadata": {},
   "outputs": [
    {
     "ename": "TypeError",
     "evalue": "scatter() missing 1 required positional argument: 'y'",
     "output_type": "error",
     "traceback": [
      "\u001b[0;31m---------------------------------------------------------------------------\u001b[0m",
      "\u001b[0;31mTypeError\u001b[0m                                 Traceback (most recent call last)",
      "Cell \u001b[0;32mIn[49], line 2\u001b[0m\n\u001b[1;32m      1\u001b[0m gc_df \u001b[38;5;241m=\u001b[39m gpu_cores_df\u001b[38;5;241m.\u001b[39mto_frame()\n\u001b[0;32m----> 2\u001b[0m plt\u001b[38;5;241m.\u001b[39mscatter(gc_df)\n\u001b[1;32m      3\u001b[0m plt\u001b[38;5;241m.\u001b[39mshow()\n",
      "\u001b[0;31mTypeError\u001b[0m: scatter() missing 1 required positional argument: 'y'"
     ]
    }
   ],
   "source": [
    "gc_df = gpu_cores_df.to_frame()\n",
    "plt.scatter(gc_df)\n",
    "plt.show()"
   ]
  },
  {
   "cell_type": "code",
   "execution_count": null,
   "id": "498c8097-1e5d-4e37-b08e-e409b85ca2ef",
   "metadata": {},
   "outputs": [],
   "source": []
  }
 ],
 "metadata": {
  "kernelspec": {
   "display_name": "Python 3 (ipykernel)",
   "language": "python",
   "name": "python3"
  },
  "language_info": {
   "codemirror_mode": {
    "name": "ipython",
    "version": 3
   },
   "file_extension": ".py",
   "mimetype": "text/x-python",
   "name": "python",
   "nbconvert_exporter": "python",
   "pygments_lexer": "ipython3",
   "version": "3.11.5"
  }
 },
 "nbformat": 4,
 "nbformat_minor": 5
}

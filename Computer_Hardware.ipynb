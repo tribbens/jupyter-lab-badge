{
 "cells": [
  {
   "cell_type": "code",
   "execution_count": 72,
   "id": "10d50fd3-ccf0-4a3a-800c-faa1e02cc6dc",
   "metadata": {
    "tags": []
   },
   "outputs": [
    {
     "data": {
      "text/html": [
       "<div>\n",
       "<style scoped>\n",
       "    .dataframe tbody tr th:only-of-type {\n",
       "        vertical-align: middle;\n",
       "    }\n",
       "\n",
       "    .dataframe tbody tr th {\n",
       "        vertical-align: top;\n",
       "    }\n",
       "\n",
       "    .dataframe thead th {\n",
       "        text-align: right;\n",
       "    }\n",
       "</style>\n",
       "<table border=\"1\" class=\"dataframe\">\n",
       "  <thead>\n",
       "    <tr style=\"text-align: right;\">\n",
       "      <th></th>\n",
       "      <th>Timestamp</th>\n",
       "      <th>Operating System</th>\n",
       "      <th>CPU Cycle Rate (in GHz)</th>\n",
       "      <th>CPU Number of Cores</th>\n",
       "      <th>RAM (in GB)</th>\n",
       "      <th>Hard Drive Size (in GB)</th>\n",
       "      <th>GPU (short description)</th>\n",
       "      <th>CPU Number of Cores (int)</th>\n",
       "      <th>GPU (short description as a string)</th>\n",
       "      <th>GPU CUDA Number of Cores (int)</th>\n",
       "      <th>Count</th>\n",
       "    </tr>\n",
       "  </thead>\n",
       "  <tbody>\n",
       "    <tr>\n",
       "      <th>0</th>\n",
       "      <td>6/12/2021 23:05:22</td>\n",
       "      <td>Windows 10</td>\n",
       "      <td>1.8</td>\n",
       "      <td>4.0</td>\n",
       "      <td>8</td>\n",
       "      <td>256</td>\n",
       "      <td>intel uhd 620</td>\n",
       "      <td>NaN</td>\n",
       "      <td>NaN</td>\n",
       "      <td>NaN</td>\n",
       "      <td>1</td>\n",
       "    </tr>\n",
       "    <tr>\n",
       "      <th>1</th>\n",
       "      <td>6/13/2021 20:36:02</td>\n",
       "      <td>Windows 10</td>\n",
       "      <td>2.8</td>\n",
       "      <td>4.0</td>\n",
       "      <td>16</td>\n",
       "      <td>460</td>\n",
       "      <td>Intel(R) Iris(R) Xe Graphics</td>\n",
       "      <td>NaN</td>\n",
       "      <td>NaN</td>\n",
       "      <td>NaN</td>\n",
       "      <td>1</td>\n",
       "    </tr>\n",
       "    <tr>\n",
       "      <th>2</th>\n",
       "      <td>6/13/2021 22:31:11</td>\n",
       "      <td>MacOS</td>\n",
       "      <td>3.1</td>\n",
       "      <td>2.0</td>\n",
       "      <td>8</td>\n",
       "      <td>512</td>\n",
       "      <td>Intel Iris Plus Graphics 650</td>\n",
       "      <td>NaN</td>\n",
       "      <td>NaN</td>\n",
       "      <td>NaN</td>\n",
       "      <td>1</td>\n",
       "    </tr>\n",
       "    <tr>\n",
       "      <th>3</th>\n",
       "      <td>6/14/2021 13:31:30</td>\n",
       "      <td>Windows 10</td>\n",
       "      <td>3.5</td>\n",
       "      <td>4.0</td>\n",
       "      <td>16</td>\n",
       "      <td>1000</td>\n",
       "      <td>NVIDIA GeForce GTX 1070 Ti</td>\n",
       "      <td>NaN</td>\n",
       "      <td>NaN</td>\n",
       "      <td>NaN</td>\n",
       "      <td>1</td>\n",
       "    </tr>\n",
       "    <tr>\n",
       "      <th>4</th>\n",
       "      <td>6/14/2021 14:13:55</td>\n",
       "      <td>MacOS</td>\n",
       "      <td>1.6</td>\n",
       "      <td>2.0</td>\n",
       "      <td>8</td>\n",
       "      <td>256</td>\n",
       "      <td>Intel HD Graphics 6000 1536 MB</td>\n",
       "      <td>NaN</td>\n",
       "      <td>NaN</td>\n",
       "      <td>NaN</td>\n",
       "      <td>1</td>\n",
       "    </tr>\n",
       "  </tbody>\n",
       "</table>\n",
       "</div>"
      ],
      "text/plain": [
       "            Timestamp Operating System  CPU Cycle Rate (in GHz)  \\\n",
       "0  6/12/2021 23:05:22       Windows 10                      1.8   \n",
       "1  6/13/2021 20:36:02       Windows 10                      2.8   \n",
       "2  6/13/2021 22:31:11            MacOS                      3.1   \n",
       "3  6/14/2021 13:31:30       Windows 10                      3.5   \n",
       "4  6/14/2021 14:13:55            MacOS                      1.6   \n",
       "\n",
       "   CPU Number of Cores  RAM (in GB)  Hard Drive Size (in GB)  \\\n",
       "0                  4.0            8                      256   \n",
       "1                  4.0           16                      460   \n",
       "2                  2.0            8                      512   \n",
       "3                  4.0           16                     1000   \n",
       "4                  2.0            8                      256   \n",
       "\n",
       "          GPU (short description)  CPU Number of Cores (int)  \\\n",
       "0                   intel uhd 620                        NaN   \n",
       "1    Intel(R) Iris(R) Xe Graphics                        NaN   \n",
       "2    Intel Iris Plus Graphics 650                        NaN   \n",
       "3      NVIDIA GeForce GTX 1070 Ti                        NaN   \n",
       "4  Intel HD Graphics 6000 1536 MB                        NaN   \n",
       "\n",
       "  GPU (short description as a string)  GPU CUDA Number of Cores (int)  Count  \n",
       "0                                 NaN                             NaN      1  \n",
       "1                                 NaN                             NaN      1  \n",
       "2                                 NaN                             NaN      1  \n",
       "3                                 NaN                             NaN      1  \n",
       "4                                 NaN                             NaN      1  "
      ]
     },
     "execution_count": 72,
     "metadata": {},
     "output_type": "execute_result"
    }
   ],
   "source": [
    "import pandas as pd\n",
    "import matplotlib.pyplot as plt\n",
    "\n",
    "#reading data from csv files and creating one dataframe\n",
    "df1 = pd.read_csv(\"2021-06-15-survey.csv\")\n",
    "df2 = pd.read_csv(\"2022-06-14-survey.csv\")\n",
    "df3 = pd.read_csv(\"2023-06-13-survey.csv\")\n",
    "df_list = [df1, df2, df3]\n",
    "combined_df = pd.concat(df_list)\n",
    "combined_df.reset_index(drop=True, inplace=True)\n",
    "\n",
    "#set count to 1 for each row so they can be summed\n",
    "combined_df[\"Count\"] = 1\n",
    "\n",
    "#display head of dataframe to get idea of columns\n",
    "combined_df.head()"
   ]
  },
  {
   "cell_type": "code",
   "execution_count": 70,
   "id": "8e5df572-355d-45ab-a192-3e28ca4b0521",
   "metadata": {},
   "outputs": [
    {
     "data": {
      "text/plain": [
       "(array([ 0., 20., 22.,  4.,  9.]),\n",
       " array([ 0.,  2.,  4.,  6.,  8., 10.]),\n",
       " <BarContainer object of 5 artists>)"
      ]
     },
     "execution_count": 70,
     "metadata": {},
     "output_type": "execute_result"
    },
    {
     "data": {
      "image/png": "[encoded data removed]",
      "text/plain": [
       "<Figure size 640x480 with 1 Axes>"
      ]
     },
     "metadata": {},
     "output_type": "display_data"
    }
   ],
   "source": [
    "#create histogram for cpu cores\n",
    "cpu_cores_data = combined_df[\"CPU Number of Cores\"].dropna()\n",
    "cpu_cores_list = cpu_cores_data.tolist()\n",
    "bins1 = [0, 2, 4, 6, 8, 10]\n",
    "plt.hist(cpu_cores_list, bins=bins1)"
   ]
  },
  {
   "cell_type": "code",
   "execution_count": 60,
   "id": "498c8097-1e5d-4e37-b08e-e409b85ca2ef",
   "metadata": {},
   "outputs": [
    {
     "data": {
      "text/plain": [
       "(array([66., 64., 47.,  2.,  1.]),\n",
       " array([   0.,  256.,  512., 1024., 2048., 4096.]),\n",
       " <BarContainer object of 5 artists>)"
      ]
     },
     "execution_count": 60,
     "metadata": {},
     "output_type": "execute_result"
    },
    {
     "data": {
      "image/png": "[encoded data removed]",
      "text/plain": [
       "<Figure size 640x480 with 1 Axes>"
      ]
     },
     "metadata": {},
     "output_type": "display_data"
    }
   ],
   "source": [
    "#create histogram for hard drive size\n",
    "hd_data = combined_df[\"Hard Drive Size (in GB)\"].dropna()\n",
    "hd_list = hd_data.tolist()\n",
    "bins2 = [0, 256, 512, 1024, 2048, 4096]\n",
    "plt.hist(hd_list, bins=bins2)"
   ]
  },
  {
   "cell_type": "code",
   "execution_count": 67,
   "id": "c336fe6f-6374-4a5f-b630-6e57c125cbe9",
   "metadata": {
    "tags": []
   },
   "outputs": [
    {
     "data": {
      "text/plain": [
       "(array([ 0.,  5., 77.,  1., 79.,  1.,  1.,  0., 12.]),\n",
       " array([ 0.,  4.,  8., 12., 16., 20., 24., 28., 32., 36.]),\n",
       " <BarContainer object of 9 artists>)"
      ]
     },
     "execution_count": 67,
     "metadata": {},
     "output_type": "execute_result"
    },
    {
     "data": {
      "image/png": "[encoded data removed]",
      "text/plain": [
       "<Figure size 640x480 with 1 Axes>"
      ]
     },
     "metadata": {},
     "output_type": "display_data"
    }
   ],
   "source": [
    "#create histogram for amount of RAM ignoring values over 36\n",
    "ram_data = combined_df[\"RAM (in GB)\"].dropna()\n",
    "ram_list = ram_data.tolist()\n",
    "bins3 = [0, 4, 8, 12, 16, 20, 24, 28, 32, 36]\n",
    "plt.hist(ram_list, bins=bins3)"
   ]
  },
  {
   "cell_type": "code",
   "execution_count": 69,
   "id": "c2438efa-1ee7-43c8-b39b-3af3b519e1ba",
   "metadata": {
    "tags": []
   },
   "outputs": [
    {
     "data": {
      "text/plain": [
       "(array([ 0.,  1., 12., 27., 43., 45., 41.,  7.,  0.,  2.]),\n",
       " array([0. , 0.5, 1. , 1.5, 2. , 2.5, 3. , 3.5, 4. , 4.5, 5. ]),\n",
       " <BarContainer object of 10 artists>)"
      ]
     },
     "execution_count": 69,
     "metadata": {},
     "output_type": "execute_result"
    },
    {
     "data": {
      "image/png": "[encoded data removed]",
      "text/plain": [
       "<Figure size 640x480 with 1 Axes>"
      ]
     },
     "metadata": {},
     "output_type": "display_data"
    }
   ],
   "source": [
    "#create histogram for cpu cycle rate ignoring values over 5 GHz\n",
    "cpu_data = combined_df[\"CPU Cycle Rate (in GHz)\"]\n",
    "cpu_list = cpu_data.tolist()\n",
    "bins4 = [0, 0.5, 1, 1.5, 2, 2.5, 3, 3.5, 4, 4.5, 5]\n",
    "plt.hist(cpu_list, bins=bins4)"
   ]
  },
  {
   "cell_type": "code",
   "execution_count": 52,
   "id": "d1a9b3ba-1e1a-4544-b8b1-af3d8c9ee442",
   "metadata": {
    "tags": []
   },
   "outputs": [
    {
     "data": {
      "text/plain": [
       "(array([35.,  3., 11.,  4.,  8.,  4.,  1.,  2.,  4.,  0.,  0.,  0.,  9.,\n",
       "         0.,  0.]),\n",
       " array([ 0.,  2.,  4.,  6.,  8., 10., 12., 14., 16., 18., 20., 22., 24.,\n",
       "        26., 28., 30.]),\n",
       " <BarContainer object of 15 artists>)"
      ]
     },
     "execution_count": 52,
     "metadata": {},
     "output_type": "execute_result"
    },
    {
     "data": {
      "image/png": "[encoded data removed]",
      "text/plain": [
       "<Figure size 640x480 with 1 Axes>"
      ]
     },
     "metadata": {},
     "output_type": "display_data"
    }
   ],
   "source": [
    "#create histogram for gpu cores ignoring values above 30\n",
    "gpu_cores_data = combined_df[\"GPU CUDA Number of Cores (int)\"].dropna()\n",
    "gpu_list = gpu_cores_data.tolist()\n",
    "bins5 = [0, 2, 4, 6, 8, 10, 12, 14, 16, 18, 20, 22, 24, 26, 28, 30]\n",
    "plt.hist(gpu_list, bins=bins5)"
   ]
  },
  {
   "cell_type": "code",
   "execution_count": 45,
   "id": "7c55b6e5-df02-43df-a1aa-ba975e41a47f",
   "metadata": {
    "tags": []
   },
   "outputs": [
    {
     "name": "stdout",
     "output_type": "stream",
     "text": [
      "Operating System\n",
      "Any Linux                3\n",
      "I use Mac and Linux      1\n",
      "MacOS                  107\n",
      "Windows                 49\n",
      "Windows 10              20\n",
      "Name: Count, dtype: int64\n"
     ]
    }
   ],
   "source": [
    "#sum data by operating system type and print out\n",
    "opsys_data = combined_df.groupby([\"Operating System\"])[\"Count\"].sum()\n",
    "print(opsys_data)"
   ]
  },
  {
   "cell_type": "code",
   "execution_count": 71,
   "id": "8c56a296-d4c1-4678-a55c-0da218c1a0ae",
   "metadata": {
    "tags": []
   },
   "outputs": [
    {
     "data": {
      "image/png": "[encoded data removed]",
      "text/plain": [
       "<Figure size 640x480 with 1 Axes>"
      ]
     },
     "metadata": {},
     "output_type": "display_data"
    }
   ],
   "source": [
    "#create pie chart and combine \"Windows\" with \"Windows 10\"\n",
    "labels = [\"Linux\", \"Mac and Linux\", \"MacOS\", \"Windows\"]\n",
    "values = [opsys_data[0], opsys_data[1], opsys_data[2], (opsys_data[3]+opsys_data[4])]\n",
    "plt.pie(values, labels = labels, autopct='%.1f')\n",
    "plt.show()"
   ]
  },
  {
   "cell_type": "code",
   "execution_count": null,
   "id": "e0b2ad71-226c-4871-b1eb-3ec8dea14819",
   "metadata": {},
   "outputs": [],
   "source": []
  }
 ],
 "metadata": {
  "kernelspec": {
   "display_name": "Python 3 (ipykernel)",
   "language": "python",
   "name": "python3"
  },
  "language_info": {
   "codemirror_mode": {
    "name": "ipython",
    "version": 3
   },
   "file_extension": ".py",
   "mimetype": "text/x-python",
   "name": "python",
   "nbconvert_exporter": "python",
   "pygments_lexer": "ipython3",
   "version": "3.11.5"
  }
 },
 "nbformat": 4,
 "nbformat_minor": 5
}

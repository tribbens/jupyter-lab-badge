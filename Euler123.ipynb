{
 "cells": [
  {
   "cell_type": "code",
   "execution_count": 3,
   "id": "7857419c-e150-4c3c-9fc7-d21f72752c62",
   "metadata": {
    "tags": []
   },
   "outputs": [
    {
     "name": "stdout",
     "output_type": "stream",
     "text": [
      "233168\n"
     ]
    }
   ],
   "source": [
    "# Problem 1 in Project Euler\n",
    "\n",
    "running_sum = 0\n",
    "for i in range(1, 1000):\n",
    "    if (i%3 == 0) or (i%5 == 0):\n",
    "        running_sum += i\n",
    "\n",
    "print(running_sum)\n",
    "        "
   ]
  },
  {
   "cell_type": "code",
   "execution_count": 9,
   "id": "8f5a7393-1244-4e7c-9959-0c083c5cdc1f",
   "metadata": {},
   "outputs": [
    {
     "name": "stdout",
     "output_type": "stream",
     "text": [
      "4613732\n"
     ]
    }
   ],
   "source": [
    "# Problem 2 in Project Euler\n",
    "\n",
    "#setup initial list with a few numbers and initialize parameters\n",
    "fibonacci_numbers = [1, 2, 3]\n",
    "num = 3\n",
    "i = 1\n",
    "\n",
    "#create list of fibonacci numbers below 4 million\n",
    "while num < 4000000:\n",
    "    num += fibonacci_numbers[i]\n",
    "    i += 1\n",
    "    if num < 4000000:\n",
    "        fibonacci_numbers.append(num)\n",
    "\n",
    "#sum even numbers\n",
    "running_sum = 0\n",
    "for number in range(0, len(fibonacci_numbers)):\n",
    "    if fibonacci_numbers[number] % 2 == 0:\n",
    "        running_sum += fibonacci_numbers[number]\n",
    "print(running_sum)\n"
   ]
  },
  {
   "cell_type": "code",
   "execution_count": 17,
   "id": "f420d382-f85e-4ac4-9911-e3cd8fc64a35",
   "metadata": {
    "tags": []
   },
   "outputs": [
    {
     "name": "stdout",
     "output_type": "stream",
     "text": [
      "Largest prime factor is:\n",
      "6857\n"
     ]
    }
   ],
   "source": [
    "# Problem 3 in Project Euler\n",
    "\n",
    "factors_list = []\n",
    "number = 600851475143\n",
    "for i in range(2, 100000):\n",
    "    if number%i == 0:\n",
    "        factors_list.append(i)\n",
    "    while number%i == 0:\n",
    "        number = number/i\n",
    "print(\"Largest prime factor is:\")\n",
    "print(factors_list[-1])\n"
   ]
  },
  {
   "cell_type": "code",
   "execution_count": null,
   "id": "b7651818-4948-4f87-a6a1-f66f48a686c4",
   "metadata": {},
   "outputs": [],
   "source": []
  }
 ],
 "metadata": {
  "kernelspec": {
   "display_name": "Python 3 (ipykernel)",
   "language": "python",
   "name": "python3"
  },
  "language_info": {
   "codemirror_mode": {
    "name": "ipython",
    "version": 3
   },
   "file_extension": ".py",
   "mimetype": "text/x-python",
   "name": "python",
   "nbconvert_exporter": "python",
   "pygments_lexer": "ipython3",
   "version": "3.11.5"
  }
 },
 "nbformat": 4,
 "nbformat_minor": 5
}
